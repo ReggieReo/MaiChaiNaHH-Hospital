{
 "cells": [
  {
   "cell_type": "code",
   "execution_count": null,
   "metadata": {
    "vscode": {
     "languageId": "sql"
    }
   },
   "outputs": [],
   "source": [
    "-- 1. search patient by room\n",
    "SELECT p.*\n",
    "FROM Patient as p\n",
    "JOIN Room as r ON p.roomNumber = r.roomNumber\n",
    "WHERE r.roomNumber = <room_number>;"
   ]
  },
  {
   "cell_type": "code",
   "execution_count": null,
   "metadata": {
    "vscode": {
     "languageId": "sql"
    }
   },
   "outputs": [],
   "source": [
    "-- 2. search patient by assigned doctor\n",
    "SELECT p.*\n",
    "FROM Staff as s\n",
    "JOIN Patient as p ON s.staffID = p.staffID\n",
    "where exists (\n",
    "    select 1\n",
    "    from Role as r\n",
    "    where s.roleID = r.roleID\n",
    ") and s.name = <doctor_name>;"
   ]
  },
  {
   "cell_type": "code",
   "execution_count": null,
   "metadata": {
    "vscode": {
     "languageId": "sql"
    }
   },
   "outputs": [],
   "source": [
    "-- 3. search patient by each department\n",
    "SELECT p.*\n",
    "FROM Patient as p\n",
    "JOIN department as d ON d.name = p.name\n",
    "WHERE d.name = <department_name>;"
   ]
  },
  {
   "cell_type": "code",
   "execution_count": null,
   "metadata": {
    "vscode": {
     "languageId": "sql"
    }
   },
   "outputs": [],
   "source": [
    "-- 4. search patient with specific disease\n",
    "SELECT p.*\n",
    "FROM Patient as p\n",
    "JOIN PatientDisease as pd on p.patientID = pd.patientID\n",
    "JOIN Disease as d on pd.diseaseID = d.diseaseID\n",
    "WHERE d.name = <disease_name>;"
   ]
  },
  {
   "cell_type": "code",
   "execution_count": null,
   "metadata": {
    "vscode": {
     "languageId": "sql"
    }
   },
   "outputs": [],
   "source": [
    "-- 5. list medicine by number of used \n",
    "SELECT m.*, SUM(pm.amount) as usage_count\n",
    "FROM Medicine as m\n",
    "JOIN PrescriptionMedicine as pm on pm.medID = m.medID\n",
    "GROUP BY m.medID\n",
    "ORDER BY usage_count DESC\n",
    "LIMIT 1;"
   ]
  },
  {
   "cell_type": "code",
   "execution_count": null,
   "metadata": {
    "vscode": {
     "languageId": "sql"
    }
   },
   "outputs": [],
   "source": [
    "-- 6. sum of money by\n",
    "-- specific date\n",
    "SELECT SUM(a.balance) AS Total\n",
    "FROM Accounting a\n",
    "WHERE a.date = '<date_time>';\n",
    "\n",
    "--last 4 months\n",
    "SELECT SUM(a.balance) AS Total\n",
    "FROM Accounting a\n",
    "WHERE a.date >= DATEADD(MONTH, -4, GETDATE());\n",
    "\n",
    "--past year\n",
    "SELECT SUM(a.balance) AS Total\n",
    "FROM Accounting a\n",
    "WHERE a.date >= DATEADD(YEAR, -1, GETDATE());"
   ]
  },
  {
   "cell_type": "code",
   "execution_count": null,
   "metadata": {
    "vscode": {
     "languageId": "sql"
    }
   },
   "outputs": [],
   "source": [
    "-- 7. search appointment by day/month\n",
    "SELECT a.*\n",
    "FROM Appointment as a\n",
    "WHERE a.dateTime = <dateTime>;"
   ]
  },
  {
   "cell_type": "code",
   "execution_count": null,
   "metadata": {
    "vscode": {
     "languageId": "sql"
    }
   },
   "outputs": [],
   "source": [
    "-- 8. list number of each medicine prescribed from department\n",
    "SELECT m.name, sum(pd.amount) as amount\n",
    "FROM Medicine as m\n",
    "JOIN PrecriptionMedicine as pd on pd.medID = m.medID\n",
    "JOIN Prescription as p on p.prescribedID = pd.prescribedID\n",
    "JOIN Staff as s on s.staffID = pd.staffID\n",
    "GROUP BY m.name\n",
    "HAVING s.department = <department_name>\n",
    "ORDER BY amount DESC;"
   ]
  },
  {
   "cell_type": "code",
   "execution_count": null,
   "metadata": {
    "vscode": {
     "languageId": "sql"
    }
   },
   "outputs": [],
   "source": [
    "-- 9. average age of patient with specific disease\n",
    "SELECT d.name, AVG(p.age) as averageAge\n",
    "FROM Patient as p\n",
    "JOIN PatientDisease as pd on pd.patientID = p.patientID\n",
    "JOIN Disease as d on d.diseaseID = pd.patientID\n",
    "GROUP BY d.name\n",
    "HAVING d.name = <disease_name>;"
   ]
  },
  {
   "cell_type": "code",
   "execution_count": null,
   "metadata": {
    "vscode": {
     "languageId": "sql"
    }
   },
   "outputs": [],
   "source": [
    "-- 10. appointment for a specific disease\n",
    "SELECT a.*\n",
    "FROM Appointment as a\n",
    "JOIN Patient as p ON a.patient = p.patientID\n",
    "JOIN PatientDisease as pd ON p.patientID = pd.patientID\n",
    "JOIN Disease as d ON pd.diseaseID = d.diseaseID\n",
    "WHERE d.name = <disease_name>;"
   ]
  },
  {
   "cell_type": "code",
   "execution_count": null,
   "metadata": {
    "vscode": {
     "languageId": "sql"
    }
   },
   "outputs": [],
   "source": [
    "-- 11. top 3 patient's current diseases\n",
    "SELECT d.name, COUNT(d.name) as number_of_patients\n",
    "FROM Disease as d\n",
    "JOIN PatientDisease as pd on pd.diseaseID = d.diseaseID\n",
    "GROUP BY d.name\n",
    "ORDER BY number_of_patients DESC\n",
    "LIMIT 3;"
   ]
  },
  {
   "cell_type": "code",
   "execution_count": null,
   "metadata": {
    "vscode": {
     "languageId": "sql"
    }
   },
   "outputs": [],
   "source": [
    "-- 12. search staff and number of appointment by day\n",
    "SELECT s.name, COUNT(a.appointmentID) as number_of_appointments\n",
    "FROM Staff as s\n",
    "JOIN Appointment as a on a.staffID = s.staffID\n",
    "GROUP BY s.name\n",
    "HAVING a.date = <date>;"
   ]
  }
 ],
 "metadata": {
  "kernelspec": {
   "display_name": "Python 3",
   "language": "python",
   "name": "python3"
  },
  "language_info": {
   "codemirror_mode": {
    "name": "ipython",
    "version": 3
   },
   "file_extension": ".py",
   "mimetype": "text/x-python",
   "name": "python",
   "nbconvert_exporter": "python",
   "pygments_lexer": "ipython3",
   "version": "3.11.5"
  }
 },
 "nbformat": 4,
 "nbformat_minor": 2
}
